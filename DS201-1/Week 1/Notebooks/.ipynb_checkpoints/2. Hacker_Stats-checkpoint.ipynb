{
 "cells": [
  {
   "cell_type": "markdown",
   "metadata": {},
   "source": [
    "# Hacker Statistics"
   ]
  },
  {
   "cell_type": "code",
   "execution_count": 37,
   "metadata": {},
   "outputs": [],
   "source": [
    "import numpy as np \n",
    "\n",
    "import matplotlib.pyplot as plt\n",
    "import seaborn as sns"
   ]
  },
  {
   "cell_type": "code",
   "execution_count": 38,
   "metadata": {},
   "outputs": [],
   "source": [
    "sns.set()"
   ]
  },
  {
   "cell_type": "markdown",
   "metadata": {},
   "source": [
    "## Random Generators"
   ]
  },
  {
   "cell_type": "code",
   "execution_count": 44,
   "metadata": {},
   "outputs": [],
   "source": [
    "np.random.seed(201)"
   ]
  },
  {
   "cell_type": "code",
   "execution_count": 45,
   "metadata": {},
   "outputs": [
    {
     "name": "stdout",
     "output_type": "stream",
     "text": [
      "0.1139045993204233\n"
     ]
    }
   ],
   "source": [
    "rand_1 = np.random.rand()\n",
    "print(rand_1)"
   ]
  },
  {
   "cell_type": "markdown",
   "metadata": {},
   "source": [
    "## Coin Toss"
   ]
  },
  {
   "cell_type": "code",
   "execution_count": 86,
   "metadata": {},
   "outputs": [],
   "source": [
    "np.random.seed(10)"
   ]
  },
  {
   "cell_type": "code",
   "execution_count": 75,
   "metadata": {},
   "outputs": [
    {
     "name": "stdout",
     "output_type": "stream",
     "text": [
      "0\n",
      "Heads\n"
     ]
    }
   ],
   "source": [
    "coin = np.random.randint(0,2)\n",
    "print(coin)\n",
    "\n",
    "\n",
    "if coin == 0:\n",
    "    print('Heads')\n",
    "else:\n",
    "    print(\"Tails\")"
   ]
  },
  {
   "cell_type": "markdown",
   "metadata": {},
   "source": [
    "## Dice Roll"
   ]
  },
  {
   "cell_type": "code",
   "execution_count": 82,
   "metadata": {},
   "outputs": [
    {
     "name": "stdout",
     "output_type": "stream",
     "text": [
      "5\n"
     ]
    }
   ],
   "source": [
    "dice = np.random.randint(1,7)\n",
    "print(dice)"
   ]
  },
  {
   "cell_type": "code",
   "execution_count": 85,
   "metadata": {},
   "outputs": [
    {
     "name": "stdout",
     "output_type": "stream",
     "text": [
      "2\n",
      "6\n",
      "5\n",
      "1\n",
      "2\n",
      "4\n",
      "5\n",
      "2\n",
      "6\n",
      "1\n"
     ]
    }
   ],
   "source": [
    "for roll in range(10):\n",
    "    dice = np.random.randint(1,7)\n",
    "    print(dice)"
   ]
  },
  {
   "cell_type": "markdown",
   "metadata": {},
   "source": [
    "## Random Walk"
   ]
  },
  {
   "cell_type": "code",
   "execution_count": 7,
   "metadata": {},
   "outputs": [],
   "source": [
    "def dice_roll():\n",
    "    \n",
    "    return np.random.randint(1,7)"
   ]
  },
  {
   "cell_type": "code",
   "execution_count": 19,
   "metadata": {},
   "outputs": [],
   "source": [
    "def dice_game(prev_step):\n",
    "    \n",
    "    dice = dice_roll()\n",
    "    \n",
    "    if dice <= 2:\n",
    "        next_step = max(0, prev_step - 1)\n",
    "        \n",
    "    elif dice <= 5:\n",
    "        next_step = prev_step + 1\n",
    "        \n",
    "    else:\n",
    "        next_step = prev_step + dice_roll()\n",
    "     \n",
    "    \n",
    "    return next_step"
   ]
  },
  {
   "cell_type": "code",
   "execution_count": 9,
   "metadata": {},
   "outputs": [],
   "source": [
    "def random_walk(tot_steps):\n",
    "    \n",
    "    random_walk = [0]\n",
    "    \n",
    "    for roll in range(tot_steps):\n",
    "        step = random_walk[-1]\n",
    "        next_step = dice_game(step)\n",
    "        random_walk.append(next_step)\n",
    "        \n",
    "    return random_walk"
   ]
  },
  {
   "cell_type": "code",
   "execution_count": 15,
   "metadata": {},
   "outputs": [],
   "source": [
    "def simulate_random_walks(num_sims):\n",
    "    \n",
    "    all_walks = []\n",
    "    for x in range(num_sims):\n",
    "        rand_walk = random_walk(100)\n",
    "        all_walks.append(rand_walk)\n",
    "        \n",
    "    return all_walks"
   ]
  },
  {
   "cell_type": "code",
   "execution_count": 11,
   "metadata": {},
   "outputs": [],
   "source": [
    "def transform_all_walks(all_walks):\n",
    "    return np.transpose(np.array(all_walks))"
   ]
  },
  {
   "cell_type": "code",
   "execution_count": 12,
   "metadata": {},
   "outputs": [],
   "source": [
    "def plot_walks(all_walks):\n",
    "    plt.plot(all_walks)\n",
    "    plt.title(\"All Walks\")\n",
    "    plt.ylabel(\"Steps\")\n",
    "    plt.xlabel(\"Dices Rolled\")\n",
    "    plt.show()"
   ]
  },
  {
   "cell_type": "code",
   "execution_count": 43,
   "metadata": {},
   "outputs": [],
   "source": [
    "def plot_distribution(final_steps):\n",
    "    plt.hist(final_steps, bins = 15, cumulative=True, density=True)\n",
    "    plt.title(\"Random Walk Outcome Distribution\")\n",
    "    plt.ylabel(\"% of Simulations\")\n",
    "    plt.xlabel(\"Steps Reached\")\n",
    "    plt.show()"
   ]
  },
  {
   "cell_type": "code",
   "execution_count": 46,
   "metadata": {},
   "outputs": [
    {
     "data": {
      "image/png": "[encoded data removed]",
      "text/plain": [
       "<Figure size 432x288 with 1 Axes>"
      ]
     },
     "metadata": {},
     "output_type": "display_data"
    }
   ],
   "source": [
    "num_sims = 10000\n",
    "all_walks = simulate_random_walks(num_sims)\n",
    "np_walks_t = transform_all_walks(all_walks)\n",
    "\n",
    "# plot_walks(plottable_walks)\n",
    "plot_distribution(np_walks_t[-1])"
   ]
  },
  {
   "cell_type": "code",
   "execution_count": 53,
   "metadata": {},
   "outputs": [
    {
     "name": "stdout",
     "output_type": "stream",
     "text": [
      "0.7614\n"
     ]
    }
   ],
   "source": [
    "final_steps = np_walks_t[-1]\n",
    "fav_outcomes = final_steps[np.where(final_steps > 60)]\n",
    "\n",
    "print(len(fav_outcomes)/num_sims)"
   ]
  }
 ],
 "metadata": {
  "kernelspec": {
   "display_name": "Python 3",
   "language": "python",
   "name": "python3"
  },
  "language_info": {
   "codemirror_mode": {
    "name": "ipython",
    "version": 3
   },
   "file_extension": ".py",
   "mimetype": "text/x-python",
   "name": "python",
   "nbconvert_exporter": "python",
   "pygments_lexer": "ipython3",
   "version": "3.7.1"
  }
 },
 "nbformat": 4,
 "nbformat_minor": 2
}
